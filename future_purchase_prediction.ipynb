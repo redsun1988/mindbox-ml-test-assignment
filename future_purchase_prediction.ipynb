{
 "cells": [
  {
   "cell_type": "markdown",
   "metadata": {
    "pycharm": {
     "name": "#%% md\n"
    }
   },
   "source": [
    "### Датасет\n",
    "\n",
    "- `purchases_train.csv` - история покупок в розничном магазине с 21 октября 2003 года по 12 марта 2004 года.\n",
    "- `purchases_test.csv` - покупки за следующую неделю, с 13 по 19 марта 2004 года). В этой выборке для каждого пользователя исключены товары, которые он уже покупал за период обучающей выборки. Так сделано, чтобы измерить, насколько модель хорошо предсказывает будущие покупки.\n",
    "- `customers.csv` - пол клиентов (`Male` / `Female`), есть пропуски\n",
    "\n",
    "### Бейзлайн решение\n",
    "- на истории покупок обучается модель матричного разложения `implicit.AlternateLeastSquares`\n",
    "- рекомендации сравниваются с покупками за следующую неделю по метрике `map@10`\n",
    "\n",
    "\n",
    "### Задание\n",
    "Улучшите модель с помощью информации о поле клиентов `customers.csv`"
   ]
  },
  {
   "cell_type": "code",
   "execution_count": 1,
   "metadata": {
    "pycharm": {
     "is_executing": false
    }
   },
   "outputs": [],
   "source": [
    "# you need implicit & ml_metrics packages to run this notebook\n",
    "# pip install implicit ml_metrics\n",
    "\n",
    "from pathlib import Path\n",
    "\n",
    "import numpy as np\n",
    "from ml_metrics import mapk\n",
    "import scipy\n",
    "import pandas as pd\n",
    "import implicit\n",
    "\n",
    "from src.load import DataProvider\n",
    "from src.utils import get_model, transform_to_user_sex_csr_matrix, transform_to_item_user_csr_matrix, get_recommendations, get_purchases_by_customer"
   ]
  },
  {
   "cell_type": "code",
   "execution_count": 2,
   "metadata": {
    "pycharm": {
     "is_executing": false
    }
   },
   "outputs": [
    {
     "data": {
      "text/html": [
       "<div>\n",
       "<style scoped>\n",
       "    .dataframe tbody tr th:only-of-type {\n",
       "        vertical-align: middle;\n",
       "    }\n",
       "\n",
       "    .dataframe tbody tr th {\n",
       "        vertical-align: top;\n",
       "    }\n",
       "\n",
       "    .dataframe thead th {\n",
       "        text-align: right;\n",
       "    }\n",
       "</style>\n",
       "<table border=\"1\" class=\"dataframe\">\n",
       "  <thead>\n",
       "    <tr style=\"text-align: right;\">\n",
       "      <th></th>\n",
       "      <th>customer_id</th>\n",
       "      <th>product_id</th>\n",
       "      <th>datetime</th>\n",
       "    </tr>\n",
       "  </thead>\n",
       "  <tbody>\n",
       "    <tr>\n",
       "      <th>0</th>\n",
       "      <td>8698595</td>\n",
       "      <td>12530</td>\n",
       "      <td>2004-03-10 22:18:43.497459200</td>\n",
       "    </tr>\n",
       "    <tr>\n",
       "      <th>1</th>\n",
       "      <td>13271885</td>\n",
       "      <td>7541</td>\n",
       "      <td>2004-03-06 02:24:43.209763200</td>\n",
       "    </tr>\n",
       "    <tr>\n",
       "      <th>2</th>\n",
       "      <td>16852746</td>\n",
       "      <td>13134</td>\n",
       "      <td>2004-03-10 01:03:09.598614400</td>\n",
       "    </tr>\n",
       "    <tr>\n",
       "      <th>3</th>\n",
       "      <td>16852746</td>\n",
       "      <td>6572</td>\n",
       "      <td>2004-03-04 16:45:16.522566400</td>\n",
       "    </tr>\n",
       "    <tr>\n",
       "      <th>4</th>\n",
       "      <td>14619070</td>\n",
       "      <td>4659</td>\n",
       "      <td>2004-03-12 13:29:35.011481600</td>\n",
       "    </tr>\n",
       "  </tbody>\n",
       "</table>\n",
       "</div>"
      ],
      "text/plain": [
       "   customer_id  product_id                       datetime\n",
       "0      8698595       12530  2004-03-10 22:18:43.497459200\n",
       "1     13271885        7541  2004-03-06 02:24:43.209763200\n",
       "2     16852746       13134  2004-03-10 01:03:09.598614400\n",
       "3     16852746        6572  2004-03-04 16:45:16.522566400\n",
       "4     14619070        4659  2004-03-12 13:29:35.011481600"
      ]
     },
     "metadata": {},
     "output_type": "display_data"
    },
    {
     "data": {
      "text/html": [
       "<div>\n",
       "<style scoped>\n",
       "    .dataframe tbody tr th:only-of-type {\n",
       "        vertical-align: middle;\n",
       "    }\n",
       "\n",
       "    .dataframe tbody tr th {\n",
       "        vertical-align: top;\n",
       "    }\n",
       "\n",
       "    .dataframe thead th {\n",
       "        text-align: right;\n",
       "    }\n",
       "</style>\n",
       "<table border=\"1\" class=\"dataframe\">\n",
       "  <thead>\n",
       "    <tr style=\"text-align: right;\">\n",
       "      <th></th>\n",
       "      <th>customer_id</th>\n",
       "      <th>product_id</th>\n",
       "      <th>datetime</th>\n",
       "    </tr>\n",
       "  </thead>\n",
       "  <tbody>\n",
       "    <tr>\n",
       "      <th>0</th>\n",
       "      <td>1021292</td>\n",
       "      <td>6197</td>\n",
       "      <td>2004-03-18 13:35:19.145152000</td>\n",
       "    </tr>\n",
       "    <tr>\n",
       "      <th>1</th>\n",
       "      <td>11379978</td>\n",
       "      <td>4659</td>\n",
       "      <td>2004-03-19 18:51:31.887936000</td>\n",
       "    </tr>\n",
       "    <tr>\n",
       "      <th>2</th>\n",
       "      <td>13271885</td>\n",
       "      <td>5659</td>\n",
       "      <td>2004-03-14 05:47:21.544166400</td>\n",
       "    </tr>\n",
       "    <tr>\n",
       "      <th>3</th>\n",
       "      <td>13271885</td>\n",
       "      <td>1015</td>\n",
       "      <td>2004-03-15 14:41:19.702089601</td>\n",
       "    </tr>\n",
       "    <tr>\n",
       "      <th>4</th>\n",
       "      <td>12315337</td>\n",
       "      <td>12072</td>\n",
       "      <td>2004-03-19 10:39:17.148105600</td>\n",
       "    </tr>\n",
       "  </tbody>\n",
       "</table>\n",
       "</div>"
      ],
      "text/plain": [
       "   customer_id  product_id                       datetime\n",
       "0      1021292        6197  2004-03-18 13:35:19.145152000\n",
       "1     11379978        4659  2004-03-19 18:51:31.887936000\n",
       "2     13271885        5659  2004-03-14 05:47:21.544166400\n",
       "3     13271885        1015  2004-03-15 14:41:19.702089601\n",
       "4     12315337       12072  2004-03-19 10:39:17.148105600"
      ]
     },
     "metadata": {},
     "output_type": "display_data"
    }
   ],
   "source": [
    "data_provider = DataProvider(data_directory=Path('./data'))\n",
    "purchases_train = data_provider.get_purchases_train()\n",
    "purchases_test = data_provider.get_purchases_test()\n",
    "display(\n",
    "    purchases_train.head(),\n",
    "    purchases_test.head(),\n",
    ")"
   ]
  },
  {
   "cell_type": "markdown",
   "metadata": {},
   "source": [
    "Обучаем модель implicit.AlternateLeastSquares"
   ]
  },
  {
   "cell_type": "code",
   "execution_count": 3,
   "metadata": {},
   "outputs": [
    {
     "name": "stderr",
     "output_type": "stream",
     "text": [
      "100%|██████████| 7.0/7 [00:04<00:00,  1.78it/s]\n"
     ]
    },
    {
     "data": {
      "text/plain": [
       "0.18293975547686622"
      ]
     },
     "execution_count": 3,
     "metadata": {},
     "output_type": "execute_result"
    }
   ],
   "source": [
    "data_provider = DataProvider(data_directory=Path('./data'))\n",
    "item_users = transform_to_item_user_csr_matrix(data_provider.get_purchases_train())\n",
    "\n",
    "# baseline model\n",
    "model = get_model()\n",
    "np.random.seed(42)\n",
    "model.fit(item_users=item_users)\n",
    "\n",
    "test_user_ids, test_purchases = get_purchases_by_customer(data_provider.get_purchases_test())\n",
    "recommendations = get_recommendations(model, test_user_ids, item_users)\n",
    "baseline_score = mapk(test_purchases, recommendations, k=10)\n",
    "baseline_score\n"
   ]
  },
  {
   "cell_type": "code",
   "execution_count": 12,
   "metadata": {},
   "outputs": [
    {
     "data": {
      "text/html": [
       "<div>\n",
       "<style scoped>\n",
       "    .dataframe tbody tr th:only-of-type {\n",
       "        vertical-align: middle;\n",
       "    }\n",
       "\n",
       "    .dataframe tbody tr th {\n",
       "        vertical-align: top;\n",
       "    }\n",
       "\n",
       "    .dataframe thead th {\n",
       "        text-align: right;\n",
       "    }\n",
       "</style>\n",
       "<table border=\"1\" class=\"dataframe\">\n",
       "  <thead>\n",
       "    <tr style=\"text-align: right;\">\n",
       "      <th></th>\n",
       "      <th>customer_id</th>\n",
       "      <th>sex</th>\n",
       "    </tr>\n",
       "  </thead>\n",
       "  <tbody>\n",
       "    <tr>\n",
       "      <th>0</th>\n",
       "      <td>14386819</td>\n",
       "      <td>Female</td>\n",
       "    </tr>\n",
       "    <tr>\n",
       "      <th>1</th>\n",
       "      <td>1481405</td>\n",
       "      <td>NaN</td>\n",
       "    </tr>\n",
       "    <tr>\n",
       "      <th>2</th>\n",
       "      <td>16745074</td>\n",
       "      <td>NaN</td>\n",
       "    </tr>\n",
       "    <tr>\n",
       "      <th>3</th>\n",
       "      <td>10325906</td>\n",
       "      <td>NaN</td>\n",
       "    </tr>\n",
       "    <tr>\n",
       "      <th>4</th>\n",
       "      <td>11167384</td>\n",
       "      <td>NaN</td>\n",
       "    </tr>\n",
       "  </tbody>\n",
       "</table>\n",
       "</div>"
      ],
      "text/plain": [
       "   customer_id     sex\n",
       "0     14386819  Female\n",
       "1      1481405     NaN\n",
       "2     16745074     NaN\n",
       "3     10325906     NaN\n",
       "4     11167384     NaN"
      ]
     },
     "metadata": {},
     "output_type": "display_data"
    },
    {
     "name": "stdout",
     "output_type": "stream",
     "text": [
      "<class 'pandas.core.frame.DataFrame'>\n",
      "RangeIndex: 123565 entries, 0 to 123564\n",
      "Data columns (total 2 columns):\n",
      "customer_id    123565 non-null int64\n",
      "sex            34476 non-null object\n",
      "dtypes: int64(1), object(1)\n",
      "memory usage: 1.9+ MB\n",
      "None\n"
     ]
    }
   ],
   "source": [
    "#Let's load customers\n",
    "customers = data_provider.get_customers()\n",
    "\n",
    "#display the a few rows\n",
    "display((\n",
    "    customers.head()\n",
    "))\n",
    "\n",
    "#show basic info\n",
    "print(customers.info())\n",
    "#let's full nan values using \"unknown\"\n",
    "customers.fillna(\"unknown\", inplace=True)"
   ]
  },
  {
   "cell_type": "code",
   "execution_count": 13,
   "metadata": {},
   "outputs": [],
   "source": [
    "# Let's creata a sparse matrix\n",
    "# transform_to_user_sex_csr_matrix is created in utils.py\n",
    "customer_options = transform_to_user_sex_csr_matrix(customers)"
   ]
  },
  {
   "cell_type": "code",
   "execution_count": 7,
   "metadata": {},
   "outputs": [
    {
     "name": "stderr",
     "output_type": "stream",
     "text": [
      "100%|██████████| 7.0/7 [00:05<00:00,  1.39it/s]\n"
     ]
    },
    {
     "data": {
      "text/plain": [
       "0.1967428658126718"
      ]
     },
     "execution_count": 7,
     "metadata": {},
     "output_type": "execute_result"
    }
   ],
   "source": [
    "import scipy.sparse as sp\n",
    "# we need to join data from item_users, customer_options\n",
    "# to do that for sparse matrix we can use sp.vstack \n",
    "data = sp.vstack((item_users, customer_options))\n",
    "\n",
    "model = get_model()\n",
    "np.random.seed(42)\n",
    "model.fit(item_users=data)\n",
    "\n",
    "test_user_ids, test_purchases = get_purchases_by_customer(data_provider.get_purchases_test())\n",
    "recommendations = get_recommendations(model, test_user_ids, data)\n",
    "baseline_score = mapk(test_purchases, recommendations, k=10)\n",
    "baseline_score"
   ]
  },
  {
   "cell_type": "markdown",
   "metadata": {},
   "source": [
    "The final score is better than the baseline result"
   ]
  },
  {
   "cell_type": "code",
   "execution_count": null,
   "metadata": {},
   "outputs": [],
   "source": []
  }
 ],
 "metadata": {
  "kernelspec": {
   "display_name": "Python 3",
   "language": "python",
   "name": "python3"
  },
  "language_info": {
   "codemirror_mode": {
    "name": "ipython",
    "version": 3
   },
   "file_extension": ".py",
   "mimetype": "text/x-python",
   "name": "python",
   "nbconvert_exporter": "python",
   "pygments_lexer": "ipython3",
   "version": "3.7.3"
  },
  "pycharm": {
   "stem_cell": {
    "cell_type": "raw",
    "metadata": {
     "collapsed": false
    },
    "source": []
   }
  }
 },
 "nbformat": 4,
 "nbformat_minor": 4
}
